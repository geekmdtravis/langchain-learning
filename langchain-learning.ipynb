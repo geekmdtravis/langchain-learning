{
 "cells": [
  {
   "cell_type": "markdown",
   "metadata": {},
   "source": [
    "# Langchain Experimentation\n",
    "Feel free to peek at the repo, but I'm simply using Jupyter Notebooks to explore the LangChain framework and gain undertanding of how it interacts with LLM's and supports things like RAG and Agentic Workflows. I have no specific goal in mind. \n"
   ]
  },
  {
   "cell_type": "markdown",
   "metadata": {},
   "source": [
    "## Install Dependencies"
   ]
  },
  {
   "cell_type": "code",
   "execution_count": 42,
   "metadata": {},
   "outputs": [
    {
     "name": "stdout",
     "output_type": "stream",
     "text": [
      "\u001b[1mLoading .env environment variables...\u001b[0m\n",
      "\u001b[32mCourtesy Notice\u001b[0m: Pipenv found itself running within a virtual environment, so it will automatically use that environment, instead of creating its own for any project. You can set \u001b[1mPIPENV_IGNORE_VIRTUALENVS=1\u001b[0m to force pipenv to ignore that environment and create its own instead. You can set \u001b[1mPIPENV_VERBOSITY=-1\u001b[0m to suppress this warning.\n",
      "\u001b[1mInstalling dependencies from Pipfile.lock \u001b[0m\u001b[1m(\u001b[0m\u001b[1mf7f6ac\u001b[0m\u001b[1m)\u001b[0m\u001b[1;33m...\u001b[0m\n",
      "To activate this project's virtualenv, run \u001b[33mpipenv shell\u001b[0m.\n",
      "Alternatively, run a command inside the virtualenv with \u001b[33mpipenv run\u001b[0m.\n"
     ]
    }
   ],
   "source": [
    "!pipenv install"
   ]
  },
  {
   "cell_type": "markdown",
   "metadata": {},
   "source": [
    "# Prepare the LLM\n",
    "You'll need a `.env` file with the following variables:\n",
    "```text\n",
    "HUGGINGFACE_API_KEY=api_key\n",
    "```\n",
    "You can alternatively downgrade the `repo_id` to the Llama3 8B Instruct model, which \n",
    "should be available for free. Or, swap out the LLM for a different one. "
   ]
  },
  {
   "cell_type": "code",
   "execution_count": 28,
   "metadata": {},
   "outputs": [
    {
     "name": "stdout",
     "output_type": "stream",
     "text": [
      "The token has not been saved to the git credentials helper. Pass `add_to_git_credential=True` in this function directly or `--add-to-git-credential` if using via `huggingface-cli` if you want to set the git credential as well.\n",
      "Token is valid (permission: read).\n",
      "Your token has been saved to /home/geekmdtravis/.cache/huggingface/token\n",
      "Login successful\n"
     ]
    }
   ],
   "source": [
    "from langchain.llms.huggingface_endpoint import HuggingFaceEndpoint\n",
    "from langchain.callbacks.streaming_stdout import StreamingStdOutCallbackHandler\n",
    "import os\n",
    "\n",
    "HF_API_TOKEN = os.environ['HUGGINGFACE_API_TOKEN']\n",
    "\n",
    "llm = HuggingFaceEndpoint(repo_id=\"meta-llama/Meta-Llama-3-70B-Instruct\", \n",
    "                             temperature=0.001,\n",
    "                             streaming=True,\n",
    "                             callbacks=[StreamingStdOutCallbackHandler()],\n",
    "                             huggingfacehub_api_token=HF_API_TOKEN)"
   ]
  },
  {
   "cell_type": "markdown",
   "metadata": {},
   "source": [
    "## Load the Content\n",
    "You'll see commented-out code that was used to load a file with the declaration of independence. However, this has been replaced by a YouTube video transcript loader."
   ]
  },
  {
   "cell_type": "code",
   "execution_count": 141,
   "metadata": {},
   "outputs": [
    {
     "name": "stdout",
     "output_type": "stream",
     "text": [
      "Char count in https://youtu.be/2XlYSmIlpfs?si=qZSiBtDroP1vvvJX: 19959\n"
     ]
    }
   ],
   "source": [
    "# from langchain_community.document_loaders import TextLoader\n",
    "# SOURCE = \"./declaration-of-independence.txt\"\n",
    "# loader = TextLoader(SOURCE)\n",
    "\n",
    "from langchain_community.document_loaders import YoutubeLoader\n",
    "SOURCE=\"https://youtu.be/2XlYSmIlpfs?si=qZSiBtDroP1vvvJX\"\n",
    "loader = YoutubeLoader.from_youtube_url(\n",
    "    SOURCE, add_video_info=False\n",
    ")\n",
    "docs = loader.load()\n",
    "char_count = len(docs[0].page_content)\n",
    "print(f\"Char count in {SOURCE}: {char_count}\")"
   ]
  },
  {
   "cell_type": "markdown",
   "metadata": {},
   "source": [
    "## Split the Content into Chunks\n",
    "We want the content to be split into chunks that are small enough to be processed by the LLM. That is, the context window needs to accomodate all chunks passed to it as relevant information, the query, the template/instructions, and the respose. So, we split the content into chunks of 100 tokens with a 10 token overlap. \n",
    "\n",
    "We also add metadata for each chunk that can be used for later processing."
   ]
  },
  {
   "cell_type": "code",
   "execution_count": 142,
   "metadata": {},
   "outputs": [
    {
     "name": "stderr",
     "output_type": "stream",
     "text": [
      "/home/geekmdtravis/.local/share/virtualenvs/langchain-learning-KI_9i9mN/lib/python3.12/site-packages/huggingface_hub/file_download.py:1132: FutureWarning: `resume_download` is deprecated and will be removed in version 1.0.0. Downloads always resume when possible. If you want to force a new download, use `force_download=True`.\n",
      "  warnings.warn(\n"
     ]
    },
    {
     "name": "stdout",
     "output_type": "stream",
     "text": [
      "Split document count: 42\n"
     ]
    }
   ],
   "source": [
    "from langchain_text_splitters import  RecursiveCharacterTextSplitter\n",
    "from transformers import GPT2TokenizerFast\n",
    "\n",
    "tokenizer: GPT2TokenizerFast = GPT2TokenizerFast.from_pretrained(\"gpt2\")\n",
    "cts = RecursiveCharacterTextSplitter(separators=[\"|\\n\\n\", \"\\n\", \" \", \"\"])\n",
    "splitter = cts.from_huggingface_tokenizer(tokenizer=tokenizer, chunk_size=100, chunk_overlap=10)\n",
    "split_docs = splitter.split_documents(docs)\n",
    "print(f\"Split document count: {len(split_docs)}\")\n",
    "\n",
    "for index, doc in enumerate(split_docs):\n",
    "    doc.metadata.update({\"chunk_id\": index})\n",
    "    doc.metadata.update({\"token_count\": len(tokenizer.tokenize(doc.page_content))})"
   ]
  },
  {
   "cell_type": "markdown",
   "metadata": {},
   "source": [
    "## Vectorize (Create Embeddings)\n",
    "The content needs to be vectorized so that we can use Semantic Search to find relevant chunks. The chosen sentence transformer is part of the inference API offered by Hugging Face PRO; if you do not have an API key you can just delete the `model_name` parameter and use one that is freely available on Hugging Face. Alternatively, you can swap out the Hugging Face embeddings for the OpenAI embeddings."
   ]
  },
  {
   "cell_type": "code",
   "execution_count": 143,
   "metadata": {},
   "outputs": [
    {
     "data": {
      "text/plain": [
       "768"
      ]
     },
     "execution_count": 143,
     "metadata": {},
     "output_type": "execute_result"
    }
   ],
   "source": [
    "from langchain_community.embeddings import HuggingFaceInferenceAPIEmbeddings\n",
    "\n",
    "embeddings = HuggingFaceInferenceAPIEmbeddings(\n",
    "    api_key=HF_API_TOKEN, model_name=\"sentence-transformers/all-mpnet-base-v2\"\n",
    ")\n",
    "\n",
    "doc_content = [doc.page_content for doc in split_docs]\n",
    "vectorized_docs = embeddings.embed_documents(doc_content)\n",
    "len(vectorized_docs[0])"
   ]
  },
  {
   "cell_type": "markdown",
   "metadata": {},
   "source": [
    "## Generate a Query and Query Vector\n",
    "We generate a query and vectorize it. This query will be used to find relevant chunks in the content."
   ]
  },
  {
   "cell_type": "code",
   "execution_count": 145,
   "metadata": {},
   "outputs": [
    {
     "data": {
      "text/plain": [
       "768"
      ]
     },
     "execution_count": 145,
     "metadata": {},
     "output_type": "execute_result"
    }
   ],
   "source": [
    "query = \"Make a detailed summary of the youtube video conversation.\"\n",
    "query_vector = embeddings.embed_query(query)\n",
    "len(query_vector)"
   ]
  },
  {
   "cell_type": "markdown",
   "metadata": {},
   "source": [
    "## Create a Facebook AI Semantic Search (FAISS) database\n",
    "We create a FAISS database with the embeddings of the content chunks. This will allow us to quickly find relevant chunks when we search for them using the query. The benefit of vectorized embeddings is that we can use cosine similarity to find the most similar chunks to the query. That is, we can perform a mathematical search which is much more powerful than a literal string search as we can encode meaning into the embeddings."
   ]
  },
  {
   "cell_type": "code",
   "execution_count": 150,
   "metadata": {},
   "outputs": [
    {
     "data": {
      "text/plain": [
       "[Document(page_content=\"all right Mike is on I can hear it very good all right Fair ladies fellow gentlemen my name is Eric Voorhees lover of Liberty founder of shapeshift some call me a crypto OG my girlfriend likes to call me the oldest man in crypto and from time to time I'm known for hunting down pudgy curly-haired scammers that over index on acronyms amphetamines and abundant donations to Washington [Applause] um I was asked to give a little talk about why\", metadata={'source': '2XlYSmIlpfs', 'chunk_id': 0, 'token_count': 100}),\n",
       " Document(page_content=\"I was asked to give a little talk about why we're here why we are in this industry why we're in why we are in this place it's an honor to have this opportunity but first I want to gather a little bit of information about you the audience and I'll pretend that I can see many of you with these lights on me raise your hand if you are here for the free coffee oh someone someone's lying raise your hand if you're here for the Lambos unfortunately you probably won't\", metadata={'source': '2XlYSmIlpfs', 'chunk_id': 1, 'token_count': 100}),\n",
       " Document(page_content=\"why I'm here I'm here for a rebellion peaceful for sure but no less revolutionary and as I was working on the speech I realized that the theme was going to match the name of the event permissionless I love this name it's one of the best words that captures the essence of our industry it is radical it is rebellious it's non-compliant it's American and as the oldest man in crypto let me remind you that this all began about 15 years ago with the invention of Bitcoin and why\", metadata={'source': '2XlYSmIlpfs', 'chunk_id': 3, 'token_count': 100})]"
      ]
     },
     "execution_count": 150,
     "metadata": {},
     "output_type": "execute_result"
    }
   ],
   "source": [
    "from langchain_community.vectorstores import FAISS\n",
    "\n",
    "db = FAISS.from_documents(split_docs, embeddings)\n",
    "found = db.similarity_search_by_vector(query_vector, k=30)\n",
    "sorted_found = sorted(found, key=lambda x: x.metadata[\"chunk_id\"])\n",
    "sorted_found[:3]"
   ]
  },
  {
   "cell_type": "markdown",
   "metadata": {},
   "source": [
    "## Execute the LLM\n",
    "The LLM is executed with the query and the relevant chunks. The LLM will generate a response for each chunk. We can then use the response to generate a summary of the content. The template used to generate the response is a simple one that asks the LLM to generate a response to the query and you can easily modify it below."
   ]
  },
  {
   "cell_type": "code",
   "execution_count": 149,
   "metadata": {},
   "outputs": [
    {
     "name": "stdout",
     "output_type": "stream",
     "text": [
      " \n",
      "\n",
      "The YouTube video conversation is a speech by Eric Voorhees, the founder of Shapeshift, at a cryptocurrency event. He begins by introducing himself and asking the audience why they are there, jokingly suggesting that some may be there for the free coffee or Lambos. \n",
      "\n",
      "Voorhees then delves into the theme of the event, \"permissionless,\" which he believes captures the essence of the cryptocurrency industry. He explains that the invention of Bitcoin 15 years ago marked the beginning of permissionless money, and the subsequent development of smart contracts on Ethereum enabled the creation of an entirely permissionless financial system. \n",
      "\n",
      "He argues that the attribute of being permissionless is revolutionary and essential to the crypto industry, and that if a project is not permissionless, it should be considered a stepping stone to that which is. Voorhees criticizes the traditional financial system, where all movement of funds requires someone's permission, and likens it to serfdom. \n",
      "\n",
      "He believes that the laws restricting financial affairs grow often and recede only rarely, and that the permission to build one's own life is being withdrawn by those who plunder and tell people it's for their own good. Voorhees sees the crypto industry as a rebellion against this system, saying \"no\" to the perpetual encroachment of permissioned existence. \n",
      "\n",
      "He argues that the political process is not the solution, but rather the problem, and that individuals must take responsibility for their own salvation. Voorhees believes that the crypto industry is building an economic defense against plunder and restriction by the state, and that it is a declaration of financial independence. \n",
      "\n",
      "He also addresses criticisms of the industry, such as the idea that it is chaotic and lacks order. Voorhees argues that the industry seeks not freedom from rules, but rather objective and transparent rules, and that code is better than law. He believes that the industry is building a superior technology for rules within society, and that it is the politicians and regulators who are the agents of chaos. \n",
      "\n",
      "Voorhees concludes by encouraging the audience to be grateful for the opportunity to be part of the crypto industry, to cherish its wild and romantic heart, and to build upon it. He urges them to stand tall, be men and women of vitality and integrity, and to reflect the nobility of their role as pioneering industrialists.<|eot_id|>"
     ]
    },
    {
     "data": {
      "text/plain": [
       "' \\n\\nThe YouTube video conversation is a speech by Eric Voorhees, the founder of Shapeshift, at a cryptocurrency event. He begins by introducing himself and asking the audience why they are there, jokingly suggesting that some may be there for the free coffee or Lambos. \\n\\nVoorhees then delves into the theme of the event, \"permissionless,\" which he believes captures the essence of the cryptocurrency industry. He explains that the invention of Bitcoin 15 years ago marked the beginning of permissionless money, and the subsequent development of smart contracts on Ethereum enabled the creation of an entirely permissionless financial system. \\n\\nHe argues that the attribute of being permissionless is revolutionary and essential to the crypto industry, and that if a project is not permissionless, it should be considered a stepping stone to that which is. Voorhees criticizes the traditional financial system, where all movement of funds requires someone\\'s permission, and likens it to serfdom. \\n\\nHe believes that the laws restricting financial affairs grow often and recede only rarely, and that the permission to build one\\'s own life is being withdrawn by those who plunder and tell people it\\'s for their own good. Voorhees sees the crypto industry as a rebellion against this system, saying \"no\" to the perpetual encroachment of permissioned existence. \\n\\nHe argues that the political process is not the solution, but rather the problem, and that individuals must take responsibility for their own salvation. Voorhees believes that the crypto industry is building an economic defense against plunder and restriction by the state, and that it is a declaration of financial independence. \\n\\nHe also addresses criticisms of the industry, such as the idea that it is chaotic and lacks order. Voorhees argues that the industry seeks not freedom from rules, but rather objective and transparent rules, and that code is better than law. He believes that the industry is building a superior technology for rules within society, and that it is the politicians and regulators who are the agents of chaos. \\n\\nVoorhees concludes by encouraging the audience to be grateful for the opportunity to be part of the crypto industry, to cherish its wild and romantic heart, and to build upon it. He urges them to stand tall, be men and women of vitality and integrity, and to reflect the nobility of their role as pioneering industrialists.<|eot_id|>'"
      ]
     },
     "execution_count": 149,
     "metadata": {},
     "output_type": "execute_result"
    }
   ],
   "source": [
    "from langchain.prompts import PromptTemplate\n",
    "from langchain_core.runnables import Runnable\n",
    "\n",
    "template=\"\"\"\n",
    "You are a cryptocurrency policy export. You will answer\n",
    "the question below using the relevant information from the\n",
    "similar chunks of documents provided.\n",
    "\n",
    "Question: {question}\n",
    "\n",
    "Relevant Information: {similar_chunks}\n",
    "\n",
    "Answer:\"\"\"\n",
    "prompt = PromptTemplate(template=template, input_variables=[\"question\", \"similar_chunks\"])\n",
    "\n",
    "chain: Runnable = prompt | llm\n",
    "\n",
    "chain.invoke({\"question\": query, \"similar_chunks\": [doc.page_content for doc in sorted_found]})"
   ]
  }
 ],
 "metadata": {
  "kernelspec": {
   "display_name": "langchain-learning-KI_9i9mN",
   "language": "python",
   "name": "python3"
  },
  "language_info": {
   "codemirror_mode": {
    "name": "ipython",
    "version": 3
   },
   "file_extension": ".py",
   "mimetype": "text/x-python",
   "name": "python",
   "nbconvert_exporter": "python",
   "pygments_lexer": "ipython3",
   "version": "3.12.3"
  }
 },
 "nbformat": 4,
 "nbformat_minor": 2
}
