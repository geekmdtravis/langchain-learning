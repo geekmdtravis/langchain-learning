{
 "cells": [
  {
   "cell_type": "markdown",
   "metadata": {},
   "source": [
    "# ReAct Agent with Chat History"
   ]
  },
  {
   "cell_type": "code",
   "execution_count": null,
   "metadata": {},
   "outputs": [
    {
     "name": "stderr",
     "output_type": "stream",
     "text": [
      "/home/geekmdtravis/.local/share/virtualenvs/langchain-learning-KI_9i9mN/lib/python3.12/site-packages/tqdm/auto.py:21: TqdmWarning: IProgress not found. Please update jupyter and ipywidgets. See https://ipywidgets.readthedocs.io/en/stable/user_install.html\n",
      "  from .autonotebook import tqdm as notebook_tqdm\n"
     ]
    },
    {
     "name": "stdout",
     "output_type": "stream",
     "text": [
      "The token has not been saved to the git credentials helper. Pass `add_to_git_credential=True` in this function directly or `--add-to-git-credential` if using via `huggingface-cli` if you want to set the git credential as well.\n",
      "Token is valid (permission: read).\n",
      "Your token has been saved to /home/geekmdtravis/.cache/huggingface/token\n",
      "Login successful\n"
     ]
    }
   ],
   "source": [
    "from langchain.llms.huggingface_endpoint import HuggingFaceEndpoint\n",
    "from langchain.callbacks.streaming_stdout import StreamingStdOutCallbackHandler\n",
    "import os\n",
    "\n",
    "HF_API_TOKEN = os.environ['HUGGINGFACE_API_TOKEN']\n",
    "\n",
    "llm = HuggingFaceEndpoint(repo_id=\"meta-llama/Meta-Llama-3-70B-Instruct\", \n",
    "                             temperature=0.001,\n",
    "                             streaming=True,\n",
    "                             callbacks=[StreamingStdOutCallbackHandler()],\n",
    "                             huggingfacehub_api_token=HF_API_TOKEN)"
   ]
  },
  {
   "cell_type": "markdown",
   "metadata": {},
   "source": [
    "## Create the Custom Tool"
   ]
  },
  {
   "cell_type": "code",
   "execution_count": 82,
   "metadata": {},
   "outputs": [
    {
     "data": {
      "text/plain": [
       "{'basic metabolic panel': {'synonyms': ['bmp', 'renal function'],\n",
       "  'description': \"A Basic Metabolic Panel is a standard diagnostic test that evaluates various essential components of the body's metabolism. Typically performed through a blood sample, it assesses electrolyte levels, kidney function, and blood glucose levels. The panel usually includes tests for electrolytes like sodium, potassium, and chloride, as well as measures of kidney function such as blood urea nitrogen (BUN) and creatinine. Glucose levels are also included to screen for diabetes or monitor blood sugar control.\",\n",
       "  'oid': 1},\n",
       " 'comprehensive metabolic panel': {'synonyms': ['cmp',\n",
       "   'liver function',\n",
       "   'lft',\n",
       "   'liver function test',\n",
       "   'liver function',\n",
       "   'liver panel'],\n",
       "  'description': 'A Comprehensive Metabolic Panel is a more extensive version of the Basic Metabolic Panel, providing additional information about liver function and protein levels. In addition to the tests included in a BMP, a CMP typically includes measurements of liver enzymes like alanine aminotransferase (ALT) and aspartate aminotransferase (AST), as well as total protein and albumin levels. The panel helps assess overall metabolic health and can detect conditions such as liver disease, kidney dysfunction, and diabetes.',\n",
       "  'oid': 2},\n",
       " 'complete blood count': {'synonyms': ['cbc', 'blood count'],\n",
       "  'description': 'A Complete Blood Count is a common blood test that provides important information about the types and numbers of cells in the blood. It includes measurements of red blood cells, white blood cells, and platelets, as well as other parameters like hemoglobin and hematocrit. The test can help diagnose various conditions, such as anemia, infections, and blood disorders.',\n",
       "  'oid': 3},\n",
       " 'lipid panel': {'synonyms': ['cholesterol', 'triglycerides'],\n",
       "  'description': \"A Lipid Panel is a blood test that measures the levels of fats and cholesterol in the blood. It typically includes measurements of total cholesterol, low-density lipoprotein (LDL) cholesterol, high-density lipoprotein (HDL) cholesterol, and triglycerides. The test helps assess the risk of heart disease and provides information about an individual's lipid profile.\",\n",
       "  'oid': 4},\n",
       " 'thyroid panel': {'synonyms': ['thyroid function', 'tsh'],\n",
       "  'description': 'A Thyroid Panel is a group of blood tests that evaluate the function of the thyroid gland. It typically includes measurements of thyroid-stimulating hormone (TSH), thyroxine (T4), and triiodothyronine (T3) levels. The panel helps diagnose thyroid disorders such as hypothyroidism and hyperthyroidism, as well as monitor treatment for these conditions.',\n",
       "  'oid': 5},\n",
       " 'hemoglobin a1c%': {'synonyms': ['a1c', 'glycated hemoglobin'],\n",
       "  'description': 'Hemoglobin A1c (HbA1c) is a blood test that measures the average blood sugar levels over the past 2-3 months. It is used to monitor long-term glucose control in individuals with diabetes and assess the risk of complications. The test provides valuable information about blood sugar management and helps guide treatment decisions.',\n",
       "  'oid': 6}}"
      ]
     },
     "execution_count": 82,
     "metadata": {},
     "output_type": "execute_result"
    }
   ],
   "source": [
    "from typing import List, Dict\n",
    "def make_panel_object(synonyms: List[int], desc: str, oid: int):\n",
    "    return {\n",
    "            \"synonyms\": synonyms,\n",
    "            \"description\": desc,\n",
    "            \"oid\": oid\n",
    "    }\n",
    "tool_map: Dict[str, Dict[List[str], int]] = {\n",
    "    \"basic metabolic panel\": make_panel_object([\"bmp\", \"renal function\"], \"A Basic Metabolic Panel is a standard diagnostic test that evaluates various essential components of the body's metabolism. Typically performed through a blood sample, it assesses electrolyte levels, kidney function, and blood glucose levels. The panel usually includes tests for electrolytes like sodium, potassium, and chloride, as well as measures of kidney function such as blood urea nitrogen (BUN) and creatinine. Glucose levels are also included to screen for diabetes or monitor blood sugar control.\", 1),\n",
    "    \"comprehensive metabolic panel\": make_panel_object([\"cmp\", \"liver function\", \"lft\", \"liver function test\", \"liver function\", \"liver panel\"], \"A Comprehensive Metabolic Panel is a more extensive version of the Basic Metabolic Panel, providing additional information about liver function and protein levels. In addition to the tests included in a BMP, a CMP typically includes measurements of liver enzymes like alanine aminotransferase (ALT) and aspartate aminotransferase (AST), as well as total protein and albumin levels. The panel helps assess overall metabolic health and can detect conditions such as liver disease, kidney dysfunction, and diabetes.\", 2),\n",
    "    \"complete blood count\": make_panel_object([\"cbc\", \"blood count\"], \"A Complete Blood Count is a common blood test that provides important information about the types and numbers of cells in the blood. It includes measurements of red blood cells, white blood cells, and platelets, as well as other parameters like hemoglobin and hematocrit. The test can help diagnose various conditions, such as anemia, infections, and blood disorders.\", 3),\n",
    "    \"lipid panel\": make_panel_object([\"cholesterol\", \"triglycerides\"], \"A Lipid Panel is a blood test that measures the levels of fats and cholesterol in the blood. It typically includes measurements of total cholesterol, low-density lipoprotein (LDL) cholesterol, high-density lipoprotein (HDL) cholesterol, and triglycerides. The test helps assess the risk of heart disease and provides information about an individual's lipid profile.\", 4),\n",
    "    \"thyroid panel\": make_panel_object([\"thyroid function\", \"tsh\"], \"A Thyroid Panel is a group of blood tests that evaluate the function of the thyroid gland. It typically includes measurements of thyroid-stimulating hormone (TSH), thyroxine (T4), and triiodothyronine (T3) levels. The panel helps diagnose thyroid disorders such as hypothyroidism and hyperthyroidism, as well as monitor treatment for these conditions.\", 5),\n",
    "    \"hemoglobin a1c%\": make_panel_object([\"a1c\", \"glycated hemoglobin\"], \"Hemoglobin A1c (HbA1c) is a blood test that measures the average blood sugar levels over the past 2-3 months. It is used to monitor long-term glucose control in individuals with diabetes and assess the risk of complications. The test provides valuable information about blood sugar management and helps guide treatment decisions.\",6),\n",
    "}\n",
    "tool_map\n"
   ]
  },
  {
   "cell_type": "code",
   "execution_count": 87,
   "metadata": {},
   "outputs": [
    {
     "data": {
      "text/plain": [
       "2"
      ]
     },
     "execution_count": 87,
     "metadata": {},
     "output_type": "execute_result"
    }
   ],
   "source": [
    "# Import things that are needed generically\n",
    "from langchain.pydantic_v1 import BaseModel, Field\n",
    "from langchain.tools import BaseTool, StructuredTool, tool\n",
    "\n",
    "@tool\n",
    "def get_order_id(panel_name: str) -> int:\n",
    "    \"\"\"Get an order ID for a given panel by name. When you \n",
    "    feed a panel name to this tool, it will return the order ID. \n",
    "    \"\"\"\n",
    "    clean_panel_name = panel_name.lower().split(\"\\n\")[0].strip()\n",
    "    # map a synonmym to a panel name\n",
    "    keys = tool_map.keys()\n",
    "    for key in keys:\n",
    "        if clean_panel_name in tool_map[key][\"synonyms\"]:\n",
    "            clean_panel_name = key\n",
    "            break\n",
    "    try:\n",
    "        return tool_map[clean_panel_name][\"oid\"]\n",
    "    except KeyError:\n",
    "        return -1\n",
    "\n",
    "tools = [get_order_id]\n",
    "\n",
    "get_order_id(\"Comprehensive Metabolic Panel\")"
   ]
  },
  {
   "cell_type": "markdown",
   "metadata": {},
   "source": [
    "## Create the ReAct Agent"
   ]
  },
  {
   "cell_type": "code",
   "execution_count": 84,
   "metadata": {},
   "outputs": [],
   "source": [
    "from langchain import hub\n",
    "from langchain.agents import AgentExecutor, create_react_agent\n",
    "\n",
    "prompt = hub.pull(\"hwchase17/react\")\n",
    "\n",
    "# Construct the ReAct agent\n",
    "agent = create_react_agent(llm, [get_order_id], prompt)"
   ]
  },
  {
   "cell_type": "markdown",
   "metadata": {},
   "source": [
    "# Run the Agent"
   ]
  },
  {
   "cell_type": "code",
   "execution_count": 92,
   "metadata": {},
   "outputs": [
    {
     "name": "stdout",
     "output_type": "stream",
     "text": [
      "\n",
      "\n",
      "\u001b[1m> Entering new AgentExecutor chain...\u001b[0m\n",
      " I need to figure out which panel trends diabetes levels. I know that HbA1c is a common test for diabetes, so I'll try that.\n",
      "Action: get_order_id\n",
      "Action Input: HbA1c\n",
      "Observation\u001b[32;1m\u001b[1;3m I need to figure out which panel trends diabetes levels. I know that HbA1c is a common test for diabetes, so I'll try that.\n",
      "Action: get_order_id\n",
      "Action Input: HbA1c\n",
      "Observation\u001b[0m\u001b[36;1m\u001b[1;3m-1\u001b[0m That didn't work. Maybe it's under a different name. I know that HbA1c is also known as Hemoglobin A1c, so I'll try that.\n",
      "Action: get_order_id\n",
      "Action Input: Hemoglobin A1c\n",
      "Observation\u001b[32;1m\u001b[1;3m That didn't work. Maybe it's under a different name. I know that HbA1c is also known as Hemoglobin A1c, so I'll try that.\n",
      "Action: get_order_id\n",
      "Action Input: Hemoglobin A1c\n",
      "Observation\u001b[0m\u001b[36;1m\u001b[1;3m-1\u001b[0m That didn't work either. Maybe it's under a different name. I know that HbA1c is also known as Glycohemoglobin, so I'll try that.\n",
      "Action: get_order_id\n",
      "Action Input: Glycohemoglobin\n",
      "Observation\u001b[32;1m\u001b[1;3m That didn't work either. Maybe it's under a different name. I know that HbA1c is also known as Glycohemoglobin, so I'll try that.\n",
      "Action: get_order_id\n",
      "Action Input: Glycohemoglobin\n",
      "Observation\u001b[0m\u001b[36;1m\u001b[1;3m-1\u001b[0m That didn't work either. Maybe it's under a different name. I know that HbA1c is also known as Glycated Hemoglobin, so I'll try that.\n",
      "Action: get_order_id\n",
      "Action Input: Glycated Hemoglobin\n",
      "Observation\u001b[32;1m\u001b[1;3m That didn't work either. Maybe it's under a different name. I know that HbA1c is also known as Glycated Hemoglobin, so I'll try that.\n",
      "Action: get_order_id\n",
      "Action Input: Glycated Hemoglobin\n",
      "Observation\u001b[0m\u001b[36;1m\u001b[1;3m6\u001b[0m I finally found it! The order ID for the panel that trends diabetes levels is 6.\n",
      "Final Answer: 6<|eot_id|>\u001b[32;1m\u001b[1;3m I finally found it! The order ID for the panel that trends diabetes levels is 6.\n",
      "Final Answer: 6<|eot_id|>\u001b[0m\n",
      "\n",
      "\u001b[1m> Finished chain.\u001b[0m\n"
     ]
    }
   ],
   "source": [
    "# Create an agent executor by passing in the agent and tools\n",
    "agent_executor = AgentExecutor(agent=agent, tools=[get_order_id], verbose=True)\n",
    "query = \"Which lab panel trends diabetes levels? whatever that panel is, give me the order ID for it.\"\n",
    "res = agent_executor.invoke({\"input\": query})"
   ]
  },
  {
   "cell_type": "code",
   "execution_count": null,
   "metadata": {},
   "outputs": [],
   "source": []
  }
 ],
 "metadata": {
  "kernelspec": {
   "display_name": "langchain-learning-KI_9i9mN",
   "language": "python",
   "name": "python3"
  },
  "language_info": {
   "codemirror_mode": {
    "name": "ipython",
    "version": 3
   },
   "file_extension": ".py",
   "mimetype": "text/x-python",
   "name": "python",
   "nbconvert_exporter": "python",
   "pygments_lexer": "ipython3",
   "version": "3.12.3"
  }
 },
 "nbformat": 4,
 "nbformat_minor": 2
}
